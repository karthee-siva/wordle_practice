{
  "nbformat": 4,
  "nbformat_minor": 0,
  "metadata": {
    "colab": {
      "provenance": [],
      "authorship_tag": "ABX9TyOlkWKtCEU7Q6YaJYzyk6L4",
      "include_colab_link": true
    },
    "kernelspec": {
      "name": "python3",
      "display_name": "Python 3"
    },
    "language_info": {
      "name": "python"
    },
    "widgets": {
      "application/vnd.jupyter.widget-state+json": {
        "163b6ebbb989440e999854d520c215c8": {
          "model_module": "@jupyter-widgets/controls",
          "model_name": "TextareaModel",
          "model_module_version": "2.0.0",
          "state": {
            "_dom_classes": [],
            "_model_module": "@jupyter-widgets/controls",
            "_model_module_version": "2.0.0",
            "_model_name": "TextareaModel",
            "_view_count": null,
            "_view_module": "@jupyter-widgets/controls",
            "_view_module_version": "2.0.0",
            "_view_name": "TextareaView",
            "continuous_update": true,
            "description": "Enter your name:",
            "description_allow_html": false,
            "disabled": false,
            "layout": "IPY_MODEL_146f080bec1d4d79bc149cf9619fd6a6",
            "placeholder": "Type something",
            "rows": null,
            "style": "IPY_MODEL_fb1d4cfedd524130ae4e9d9bd5bf99da",
            "tabbable": null,
            "tooltip": null,
            "value": ""
          }
        },
        "146f080bec1d4d79bc149cf9619fd6a6": {
          "model_module": "@jupyter-widgets/base",
          "model_name": "LayoutModel",
          "model_module_version": "2.0.0",
          "state": {
            "_model_module": "@jupyter-widgets/base",
            "_model_module_version": "2.0.0",
            "_model_name": "LayoutModel",
            "_view_count": null,
            "_view_module": "@jupyter-widgets/base",
            "_view_module_version": "2.0.0",
            "_view_name": "LayoutView",
            "align_content": null,
            "align_items": null,
            "align_self": null,
            "border_bottom": null,
            "border_left": null,
            "border_right": null,
            "border_top": null,
            "bottom": null,
            "display": null,
            "flex": null,
            "flex_flow": null,
            "grid_area": null,
            "grid_auto_columns": null,
            "grid_auto_flow": null,
            "grid_auto_rows": null,
            "grid_column": null,
            "grid_gap": null,
            "grid_row": null,
            "grid_template_areas": null,
            "grid_template_columns": null,
            "grid_template_rows": null,
            "height": null,
            "justify_content": null,
            "justify_items": null,
            "left": null,
            "margin": null,
            "max_height": null,
            "max_width": null,
            "min_height": null,
            "min_width": null,
            "object_fit": null,
            "object_position": null,
            "order": null,
            "overflow": null,
            "padding": null,
            "right": null,
            "top": null,
            "visibility": null,
            "width": null
          }
        },
        "fb1d4cfedd524130ae4e9d9bd5bf99da": {
          "model_module": "@jupyter-widgets/controls",
          "model_name": "TextStyleModel",
          "model_module_version": "2.0.0",
          "state": {
            "_model_module": "@jupyter-widgets/controls",
            "_model_module_version": "2.0.0",
            "_model_name": "TextStyleModel",
            "_view_count": null,
            "_view_module": "@jupyter-widgets/base",
            "_view_module_version": "2.0.0",
            "_view_name": "StyleView",
            "background": null,
            "description_width": "",
            "font_size": null,
            "text_color": null
          }
        },
        "ae376704e7024c6891b607b2e222315d": {
          "model_module": "@jupyter-widgets/controls",
          "model_name": "TextareaModel",
          "model_module_version": "2.0.0",
          "state": {
            "_dom_classes": [],
            "_model_module": "@jupyter-widgets/controls",
            "_model_module_version": "2.0.0",
            "_model_name": "TextareaModel",
            "_view_count": null,
            "_view_module": "@jupyter-widgets/controls",
            "_view_module_version": "2.0.0",
            "_view_name": "TextareaView",
            "continuous_update": true,
            "description": "Enter your name:",
            "description_allow_html": false,
            "disabled": false,
            "layout": "IPY_MODEL_ff1a639f542946419819005fcd6aceab",
            "placeholder": "Type something",
            "rows": null,
            "style": "IPY_MODEL_788fc8d20e954a4088721e75fcdf6951",
            "tabbable": null,
            "tooltip": null,
            "value": ""
          }
        },
        "ff1a639f542946419819005fcd6aceab": {
          "model_module": "@jupyter-widgets/base",
          "model_name": "LayoutModel",
          "model_module_version": "2.0.0",
          "state": {
            "_model_module": "@jupyter-widgets/base",
            "_model_module_version": "2.0.0",
            "_model_name": "LayoutModel",
            "_view_count": null,
            "_view_module": "@jupyter-widgets/base",
            "_view_module_version": "2.0.0",
            "_view_name": "LayoutView",
            "align_content": null,
            "align_items": null,
            "align_self": null,
            "border_bottom": null,
            "border_left": null,
            "border_right": null,
            "border_top": null,
            "bottom": null,
            "display": null,
            "flex": null,
            "flex_flow": null,
            "grid_area": null,
            "grid_auto_columns": null,
            "grid_auto_flow": null,
            "grid_auto_rows": null,
            "grid_column": null,
            "grid_gap": null,
            "grid_row": null,
            "grid_template_areas": null,
            "grid_template_columns": null,
            "grid_template_rows": null,
            "height": null,
            "justify_content": null,
            "justify_items": null,
            "left": null,
            "margin": null,
            "max_height": null,
            "max_width": null,
            "min_height": null,
            "min_width": null,
            "object_fit": null,
            "object_position": null,
            "order": null,
            "overflow": null,
            "padding": null,
            "right": null,
            "top": null,
            "visibility": null,
            "width": null
          }
        },
        "788fc8d20e954a4088721e75fcdf6951": {
          "model_module": "@jupyter-widgets/controls",
          "model_name": "TextStyleModel",
          "model_module_version": "2.0.0",
          "state": {
            "_model_module": "@jupyter-widgets/controls",
            "_model_module_version": "2.0.0",
            "_model_name": "TextStyleModel",
            "_view_count": null,
            "_view_module": "@jupyter-widgets/base",
            "_view_module_version": "2.0.0",
            "_view_name": "StyleView",
            "background": null,
            "description_width": "",
            "font_size": null,
            "text_color": null
          }
        },
        "7826f83a00d749d19663d3995a8c9d3b": {
          "model_module": "@jupyter-widgets/controls",
          "model_name": "TextareaModel",
          "model_module_version": "2.0.0",
          "state": {
            "_dom_classes": [],
            "_model_module": "@jupyter-widgets/controls",
            "_model_module_version": "2.0.0",
            "_model_name": "TextareaModel",
            "_view_count": null,
            "_view_module": "@jupyter-widgets/controls",
            "_view_module_version": "2.0.0",
            "_view_name": "TextareaView",
            "continuous_update": true,
            "description": "Leave a note:",
            "description_allow_html": false,
            "disabled": false,
            "layout": "IPY_MODEL_71184910566844a18966f9cdd9a2ad6b",
            "placeholder": "Type something",
            "rows": null,
            "style": "IPY_MODEL_8cc0d62f72a7400d98422754078665f6",
            "tabbable": null,
            "tooltip": null,
            "value": ""
          }
        },
        "71184910566844a18966f9cdd9a2ad6b": {
          "model_module": "@jupyter-widgets/base",
          "model_name": "LayoutModel",
          "model_module_version": "2.0.0",
          "state": {
            "_model_module": "@jupyter-widgets/base",
            "_model_module_version": "2.0.0",
            "_model_name": "LayoutModel",
            "_view_count": null,
            "_view_module": "@jupyter-widgets/base",
            "_view_module_version": "2.0.0",
            "_view_name": "LayoutView",
            "align_content": null,
            "align_items": null,
            "align_self": null,
            "border_bottom": null,
            "border_left": null,
            "border_right": null,
            "border_top": null,
            "bottom": null,
            "display": null,
            "flex": null,
            "flex_flow": null,
            "grid_area": null,
            "grid_auto_columns": null,
            "grid_auto_flow": null,
            "grid_auto_rows": null,
            "grid_column": null,
            "grid_gap": null,
            "grid_row": null,
            "grid_template_areas": null,
            "grid_template_columns": null,
            "grid_template_rows": null,
            "height": null,
            "justify_content": null,
            "justify_items": null,
            "left": null,
            "margin": null,
            "max_height": null,
            "max_width": null,
            "min_height": null,
            "min_width": null,
            "object_fit": null,
            "object_position": null,
            "order": null,
            "overflow": null,
            "padding": null,
            "right": null,
            "top": null,
            "visibility": null,
            "width": null
          }
        },
        "8cc0d62f72a7400d98422754078665f6": {
          "model_module": "@jupyter-widgets/controls",
          "model_name": "TextStyleModel",
          "model_module_version": "2.0.0",
          "state": {
            "_model_module": "@jupyter-widgets/controls",
            "_model_module_version": "2.0.0",
            "_model_name": "TextStyleModel",
            "_view_count": null,
            "_view_module": "@jupyter-widgets/base",
            "_view_module_version": "2.0.0",
            "_view_name": "StyleView",
            "background": null,
            "description_width": "",
            "font_size": null,
            "text_color": null
          }
        },
        "6b2160e943054b34afd1474b9aba3398": {
          "model_module": "@jupyter-widgets/controls",
          "model_name": "TextareaModel",
          "model_module_version": "2.0.0",
          "state": {
            "_dom_classes": [],
            "_model_module": "@jupyter-widgets/controls",
            "_model_module_version": "2.0.0",
            "_model_name": "TextareaModel",
            "_view_count": null,
            "_view_module": "@jupyter-widgets/controls",
            "_view_module_version": "2.0.0",
            "_view_name": "TextareaView",
            "continuous_update": true,
            "description": "Leave a note:",
            "description_allow_html": false,
            "disabled": false,
            "layout": "IPY_MODEL_db73a98980544b6eab7ccca9aa959e8c",
            "placeholder": "Type something",
            "rows": null,
            "style": "IPY_MODEL_22110e0af8c248db8438d953b5730712",
            "tabbable": null,
            "tooltip": null,
            "value": ""
          }
        },
        "db73a98980544b6eab7ccca9aa959e8c": {
          "model_module": "@jupyter-widgets/base",
          "model_name": "LayoutModel",
          "model_module_version": "2.0.0",
          "state": {
            "_model_module": "@jupyter-widgets/base",
            "_model_module_version": "2.0.0",
            "_model_name": "LayoutModel",
            "_view_count": null,
            "_view_module": "@jupyter-widgets/base",
            "_view_module_version": "2.0.0",
            "_view_name": "LayoutView",
            "align_content": null,
            "align_items": null,
            "align_self": null,
            "border_bottom": null,
            "border_left": null,
            "border_right": null,
            "border_top": null,
            "bottom": null,
            "display": null,
            "flex": null,
            "flex_flow": null,
            "grid_area": null,
            "grid_auto_columns": null,
            "grid_auto_flow": null,
            "grid_auto_rows": null,
            "grid_column": null,
            "grid_gap": null,
            "grid_row": null,
            "grid_template_areas": null,
            "grid_template_columns": null,
            "grid_template_rows": null,
            "height": null,
            "justify_content": null,
            "justify_items": null,
            "left": null,
            "margin": null,
            "max_height": null,
            "max_width": null,
            "min_height": null,
            "min_width": null,
            "object_fit": null,
            "object_position": null,
            "order": null,
            "overflow": null,
            "padding": null,
            "right": null,
            "top": null,
            "visibility": null,
            "width": null
          }
        },
        "22110e0af8c248db8438d953b5730712": {
          "model_module": "@jupyter-widgets/controls",
          "model_name": "TextStyleModel",
          "model_module_version": "2.0.0",
          "state": {
            "_model_module": "@jupyter-widgets/controls",
            "_model_module_version": "2.0.0",
            "_model_name": "TextStyleModel",
            "_view_count": null,
            "_view_module": "@jupyter-widgets/base",
            "_view_module_version": "2.0.0",
            "_view_name": "StyleView",
            "background": null,
            "description_width": "",
            "font_size": null,
            "text_color": null
          }
        },
        "11d4ec906ea44be480f49a16cb8e433a": {
          "model_module": "@jupyter-widgets/controls",
          "model_name": "TextareaModel",
          "model_module_version": "2.0.0",
          "state": {
            "_dom_classes": [],
            "_model_module": "@jupyter-widgets/controls",
            "_model_module_version": "2.0.0",
            "_model_name": "TextareaModel",
            "_view_count": null,
            "_view_module": "@jupyter-widgets/controls",
            "_view_module_version": "2.0.0",
            "_view_name": "TextareaView",
            "continuous_update": true,
            "description": "Type your name:",
            "description_allow_html": false,
            "disabled": false,
            "layout": "IPY_MODEL_1f27b1cceb3743e4bb4ae34fec3f34e8",
            "placeholder": "Type something",
            "rows": null,
            "style": "IPY_MODEL_b87ac504f2e04787bcddc486665a6fcb",
            "tabbable": null,
            "tooltip": null,
            "value": ""
          }
        },
        "1f27b1cceb3743e4bb4ae34fec3f34e8": {
          "model_module": "@jupyter-widgets/base",
          "model_name": "LayoutModel",
          "model_module_version": "2.0.0",
          "state": {
            "_model_module": "@jupyter-widgets/base",
            "_model_module_version": "2.0.0",
            "_model_name": "LayoutModel",
            "_view_count": null,
            "_view_module": "@jupyter-widgets/base",
            "_view_module_version": "2.0.0",
            "_view_name": "LayoutView",
            "align_content": null,
            "align_items": null,
            "align_self": null,
            "border_bottom": null,
            "border_left": null,
            "border_right": null,
            "border_top": null,
            "bottom": null,
            "display": null,
            "flex": null,
            "flex_flow": null,
            "grid_area": null,
            "grid_auto_columns": null,
            "grid_auto_flow": null,
            "grid_auto_rows": null,
            "grid_column": null,
            "grid_gap": null,
            "grid_row": null,
            "grid_template_areas": null,
            "grid_template_columns": null,
            "grid_template_rows": null,
            "height": null,
            "justify_content": null,
            "justify_items": null,
            "left": null,
            "margin": null,
            "max_height": null,
            "max_width": null,
            "min_height": null,
            "min_width": null,
            "object_fit": null,
            "object_position": null,
            "order": null,
            "overflow": null,
            "padding": null,
            "right": null,
            "top": null,
            "visibility": null,
            "width": null
          }
        },
        "b87ac504f2e04787bcddc486665a6fcb": {
          "model_module": "@jupyter-widgets/controls",
          "model_name": "TextStyleModel",
          "model_module_version": "2.0.0",
          "state": {
            "_model_module": "@jupyter-widgets/controls",
            "_model_module_version": "2.0.0",
            "_model_name": "TextStyleModel",
            "_view_count": null,
            "_view_module": "@jupyter-widgets/base",
            "_view_module_version": "2.0.0",
            "_view_name": "StyleView",
            "background": null,
            "description_width": "",
            "font_size": null,
            "text_color": null
          }
        }
      }
    }
  },
  "cells": [
    {
      "cell_type": "markdown",
      "metadata": {
        "id": "view-in-github",
        "colab_type": "text"
      },
      "source": [
        "<a href=\"https://colab.research.google.com/github/karthee-siva/wordle_practice/blob/main/Wordle_no_repetition.ipynb\" target=\"_parent\"><img src=\"https://colab.research.google.com/assets/colab-badge.svg\" alt=\"Open In Colab\"/></a>"
      ]
    },
    {
      "cell_type": "code",
      "execution_count": 4,
      "metadata": {
        "id": "CtNNn6vqTCB4"
      },
      "outputs": [],
      "source": [
        "pip install streamlit streamlit-jupyter\n",
        "from streamlit_jupyter import StreamlitPatcher, tqdm\n"
      ]
    },
    {
      "cell_type": "code",
      "source": [],
      "metadata": {
        "id": "KBLOUalSb_mm"
      },
      "execution_count": 16,
      "outputs": []
    },
    {
      "cell_type": "code",
      "source": [
        "\n",
        "StreamlitPatcher().jupyter()\n",
        "import streamlit as st\n",
        "st.title('Hello Streamlit Jupyter! :D')\n",
        "st.write(\"Please provide the wordle puzzle...\")\n",
        "\n",
        "# --- Your colored input box CSS (light blue) ---\n",
        "st.markdown(\"\"\"\n",
        "<style>\n",
        ".stTextInput > div > div > input {\n",
        "    background-color: #e6f0ff !important;\n",
        "    color: #000000 !important;\n",
        "    border: 2px solid #3399ff !important;\n",
        "    border-radius: 8px !important;\n",
        "    padding: 8px !important;\n",
        "}\n",
        "</style>\n",
        "\"\"\", unsafe_allow_html=True\n",
        ")\n",
        "name = st.text_input(\"Enter your name:\")\n",
        "\n",
        "if name:\n",
        "    st.success(f\"Hello, {name}!\")"
      ],
      "metadata": {
        "colab": {
          "base_uri": "https://localhost:8080/",
          "height": 119,
          "referenced_widgets": [
            "163b6ebbb989440e999854d520c215c8",
            "146f080bec1d4d79bc149cf9619fd6a6",
            "fb1d4cfedd524130ae4e9d9bd5bf99da"
          ]
        },
        "id": "av8Jdy87VT1T",
        "outputId": "14f789b6-b6c1-42c8-d0d5-f500d69609ce"
      },
      "execution_count": 30,
      "outputs": [
        {
          "output_type": "display_data",
          "data": {
            "text/plain": [
              "<IPython.core.display.Markdown object>"
            ],
            "text/markdown": "# Hello Streamlit Jupyter! :D"
          },
          "metadata": {}
        },
        {
          "output_type": "display_data",
          "data": {
            "text/plain": [
              "<IPython.core.display.Markdown object>"
            ],
            "text/markdown": "Please provide the wordle puzzle..."
          },
          "metadata": {}
        },
        {
          "output_type": "display_data",
          "data": {
            "text/plain": [
              "<IPython.core.display.Markdown object>"
            ],
            "text/markdown": "\n<style>\n.stTextInput > div > div > input {\n    background-color: #e6f0ff !important;\n    color: #000000 !important;\n    border: 2px solid #3399ff !important;\n    border-radius: 8px !important;\n    padding: 8px !important;\n}\n</style>\n"
          },
          "metadata": {}
        },
        {
          "output_type": "display_data",
          "data": {
            "text/plain": [
              "Textarea(value='', description='Enter your name:', placeholder='Type something')"
            ],
            "application/vnd.jupyter.widget-view+json": {
              "version_major": 2,
              "version_minor": 0,
              "model_id": "163b6ebbb989440e999854d520c215c8"
            }
          },
          "metadata": {
            "application/vnd.jupyter.widget-view+json": {
              "colab": {
                "custom_widget_manager": {
                  "url": "https://ssl.gstatic.com/colaboratory-static/widgets/colab-cdn-widget-manager/2b70e893a8ba7c0f/manager.min.js"
                }
              }
            }
          }
        }
      ]
    },
    {
      "cell_type": "code",
      "source": [
        "# ✅ One-shot: colored text input in Streamlit Jupyter\n",
        "\n",
        "from streamlit_jupyter import StreamlitPatcher\n",
        "StreamlitPatcher().jupyter()\n",
        "\n",
        "import streamlit as st\n",
        "\n",
        "st.title(\"Colored Text Input (robust selectors)\")\n",
        "\n",
        "# --- Robust CSS (covers multiple Streamlit versions) ---\n",
        "st.markdown(\"\"\"\n",
        "<style>\n",
        "/* Newer Streamlit builds expose data-testid */\n",
        "div[data-testid=\"stTextInput\"] input,\n",
        "/* Classic class name */\n",
        ".stTextInput input,\n",
        "/* BaseWeb wrapper used by Streamlit's TextInput */\n",
        "div[data-baseweb=\"input\"] input,\n",
        "/* Fallback: target by aria-label (we set the same label) */\n",
        "input[aria-label=\"Enter your name:\"] {\n",
        "    background-color: #e6f0ff !important;   /* light blue */\n",
        "    color: #000000 !important;               /* text */\n",
        "    border: 2px solid #3399ff !important;    /* blue border */\n",
        "    border-radius: 8px !important;\n",
        "    padding: 8px !important;\n",
        "    outline: none !important;\n",
        "    box-shadow: none !important;\n",
        "}\n",
        "</style>\n",
        "\"\"\", unsafe_allow_html=True)\n",
        "\n",
        "# --- The widget (label matches aria-label selector above) ---\n",
        "name = st.text_input(\"Enter your name:\")\n",
        "\n",
        "st.write(\"Value:\", name if name else \"—\")\n",
        "\n",
        "msg = st.text_area(\"Leave a note:\")"
      ],
      "metadata": {
        "id": "1FzprLw8VSmC",
        "colab": {
          "base_uri": "https://localhost:8080/",
          "height": 141,
          "referenced_widgets": [
            "ae376704e7024c6891b607b2e222315d",
            "ff1a639f542946419819005fcd6aceab",
            "788fc8d20e954a4088721e75fcdf6951",
            "7826f83a00d749d19663d3995a8c9d3b",
            "71184910566844a18966f9cdd9a2ad6b",
            "8cc0d62f72a7400d98422754078665f6"
          ]
        },
        "outputId": "dc395793-6aff-4c82-b70c-3b9e570897a1"
      },
      "execution_count": 31,
      "outputs": [
        {
          "output_type": "display_data",
          "data": {
            "text/plain": [
              "<IPython.core.display.Markdown object>"
            ],
            "text/markdown": "# Colored Text Input (robust selectors)"
          },
          "metadata": {}
        },
        {
          "output_type": "display_data",
          "data": {
            "text/plain": [
              "<IPython.core.display.Markdown object>"
            ],
            "text/markdown": "\n<style>\n/* Newer Streamlit builds expose data-testid */\ndiv[data-testid=\"stTextInput\"] input,\n/* Classic class name */\n.stTextInput input,\n/* BaseWeb wrapper used by Streamlit's TextInput */\ndiv[data-baseweb=\"input\"] input,\n/* Fallback: target by aria-label (we set the same label) */\ninput[aria-label=\"Enter your name:\"] {\n    background-color: #e6f0ff !important;   /* light blue */\n    color: #000000 !important;               /* text */\n    border: 2px solid #3399ff !important;    /* blue border */\n    border-radius: 8px !important;\n    padding: 8px !important;\n    outline: none !important;\n    box-shadow: none !important;\n}\n</style>\n"
          },
          "metadata": {}
        },
        {
          "output_type": "display_data",
          "data": {
            "text/plain": [
              "Textarea(value='', description='Enter your name:', placeholder='Type something')"
            ],
            "application/vnd.jupyter.widget-view+json": {
              "version_major": 2,
              "version_minor": 0,
              "model_id": "ae376704e7024c6891b607b2e222315d"
            }
          },
          "metadata": {
            "application/vnd.jupyter.widget-view+json": {
              "colab": {
                "custom_widget_manager": {
                  "url": "https://ssl.gstatic.com/colaboratory-static/widgets/colab-cdn-widget-manager/2b70e893a8ba7c0f/manager.min.js"
                }
              }
            }
          }
        },
        {
          "output_type": "display_data",
          "data": {
            "text/plain": [
              "<IPython.core.display.Markdown object>"
            ],
            "text/markdown": "Value:"
          },
          "metadata": {}
        },
        {
          "output_type": "display_data",
          "data": {
            "text/plain": [
              "<IPython.core.display.Markdown object>"
            ],
            "text/markdown": "—"
          },
          "metadata": {}
        },
        {
          "output_type": "display_data",
          "data": {
            "text/plain": [
              "Textarea(value='', description='Leave a note:', placeholder='Type something')"
            ],
            "application/vnd.jupyter.widget-view+json": {
              "version_major": 2,
              "version_minor": 0,
              "model_id": "7826f83a00d749d19663d3995a8c9d3b"
            }
          },
          "metadata": {
            "application/vnd.jupyter.widget-view+json": {
              "colab": {
                "custom_widget_manager": {
                  "url": "https://ssl.gstatic.com/colaboratory-static/widgets/colab-cdn-widget-manager/2b70e893a8ba7c0f/manager.min.js"
                }
              }
            }
          }
        }
      ]
    },
    {
      "cell_type": "code",
      "source": [
        "msg = st.text_area(\"Leave a note:\")"
      ],
      "metadata": {
        "colab": {
          "base_uri": "https://localhost:8080/",
          "height": 38,
          "referenced_widgets": [
            "6b2160e943054b34afd1474b9aba3398",
            "db73a98980544b6eab7ccca9aa959e8c",
            "22110e0af8c248db8438d953b5730712"
          ]
        },
        "id": "e-OxEDirTxdD",
        "outputId": "8cc52ab1-6b9e-47fc-d499-4ad6123a9c15"
      },
      "execution_count": 32,
      "outputs": [
        {
          "output_type": "display_data",
          "data": {
            "text/plain": [
              "Textarea(value='', description='Leave a note:', placeholder='Type something')"
            ],
            "application/vnd.jupyter.widget-view+json": {
              "version_major": 2,
              "version_minor": 0,
              "model_id": "6b2160e943054b34afd1474b9aba3398"
            }
          },
          "metadata": {
            "application/vnd.jupyter.widget-view+json": {
              "colab": {
                "custom_widget_manager": {
                  "url": "https://ssl.gstatic.com/colaboratory-static/widgets/colab-cdn-widget-manager/2b70e893a8ba7c0f/manager.min.js"
                }
              }
            }
          }
        }
      ]
    },
    {
      "cell_type": "code",
      "source": [
        "from streamlit_jupyter import StreamlitPatcher\n",
        "StreamlitPatcher().jupyter()  # must run in the same cell before any st.* calls\n",
        "\n",
        "import streamlit as st\n",
        "\n",
        "st.title(\"Streamlit inline sanity check\")\n",
        "\n",
        "# Use a form so the UI doesn't re-run on every keystroke\n",
        "with st.form(\"f\"):\n",
        "    name = st.text_input(\"Type your name:\")\n",
        "    ok = st.form_submit_button(\"Submit\")\n",
        "\n",
        "if ok:\n",
        "    st.success(f\"Hello, {name or '…nothing entered'}\")\n",
        "else:\n",
        "    st.info(\"Type something and press Submit\")"
      ],
      "metadata": {
        "id": "bPwj330XUzAJ",
        "colab": {
          "base_uri": "https://localhost:8080/",
          "height": 276,
          "referenced_widgets": [
            "11d4ec906ea44be480f49a16cb8e433a",
            "1f27b1cceb3743e4bb4ae34fec3f34e8",
            "b87ac504f2e04787bcddc486665a6fcb"
          ]
        },
        "outputId": "023c2d50-0e1f-49d3-d964-2d174a4aacb8"
      },
      "execution_count": 33,
      "outputs": [
        {
          "output_type": "display_data",
          "data": {
            "text/plain": [
              "<IPython.core.display.Markdown object>"
            ],
            "text/markdown": "# Streamlit inline sanity check"
          },
          "metadata": {}
        },
        {
          "output_type": "stream",
          "name": "stderr",
          "text": [
            "2025-08-31 18:57:50.690 Thread 'MainThread': missing ScriptRunContext! This warning can be ignored when running in bare mode.\n",
            "2025-08-31 18:57:50.691 Thread 'MainThread': missing ScriptRunContext! This warning can be ignored when running in bare mode.\n"
          ]
        },
        {
          "output_type": "display_data",
          "data": {
            "text/plain": [
              "Textarea(value='', description='Type your name:', placeholder='Type something')"
            ],
            "application/vnd.jupyter.widget-view+json": {
              "version_major": 2,
              "version_minor": 0,
              "model_id": "11d4ec906ea44be480f49a16cb8e433a"
            }
          },
          "metadata": {
            "application/vnd.jupyter.widget-view+json": {
              "colab": {
                "custom_widget_manager": {
                  "url": "https://ssl.gstatic.com/colaboratory-static/widgets/colab-cdn-widget-manager/2b70e893a8ba7c0f/manager.min.js"
                }
              }
            }
          }
        },
        {
          "output_type": "stream",
          "name": "stderr",
          "text": [
            "2025-08-31 18:57:50.697 Thread 'MainThread': missing ScriptRunContext! This warning can be ignored when running in bare mode.\n",
            "2025-08-31 18:57:50.698 Thread 'MainThread': missing ScriptRunContext! This warning can be ignored when running in bare mode.\n",
            "2025-08-31 18:57:50.699 Thread 'MainThread': missing ScriptRunContext! This warning can be ignored when running in bare mode.\n",
            "2025-08-31 18:57:50.700 Thread 'MainThread': missing ScriptRunContext! This warning can be ignored when running in bare mode.\n",
            "2025-08-31 18:57:50.701 Thread 'MainThread': missing ScriptRunContext! This warning can be ignored when running in bare mode.\n",
            "2025-08-31 18:57:50.702 Thread 'MainThread': missing ScriptRunContext! This warning can be ignored when running in bare mode.\n",
            "2025-08-31 18:57:50.703 Thread 'MainThread': missing ScriptRunContext! This warning can be ignored when running in bare mode.\n",
            "2025-08-31 18:57:50.704 Thread 'MainThread': missing ScriptRunContext! This warning can be ignored when running in bare mode.\n",
            "2025-08-31 18:57:50.705 Thread 'MainThread': missing ScriptRunContext! This warning can be ignored when running in bare mode.\n"
          ]
        }
      ]
    },
    {
      "cell_type": "code",
      "metadata": {
        "id": "d9394a74",
        "colab": {
          "base_uri": "https://localhost:8080/",
          "height": 124
        },
        "outputId": "7a5d6845-984e-4afa-a0ba-ea9d4a362d15"
      },
      "source": [
        "jupyter trust Wordle_no_repetition.ipynb\n"
      ],
      "execution_count": 35,
      "outputs": [
        {
          "output_type": "error",
          "ename": "SyntaxError",
          "evalue": "invalid syntax (ipython-input-2577782214.py, line 1)",
          "traceback": [
            "\u001b[0;36m  File \u001b[0;32m\"/tmp/ipython-input-2577782214.py\"\u001b[0;36m, line \u001b[0;32m1\u001b[0m\n\u001b[0;31m    jupyter trust Wordle_no_repetition.ipynb\u001b[0m\n\u001b[0m            ^\u001b[0m\n\u001b[0;31mSyntaxError\u001b[0m\u001b[0;31m:\u001b[0m invalid syntax\n"
          ]
        }
      ]
    },
    {
      "cell_type": "code",
      "source": [
        "import sys, streamlit as st, streamlit_jupyter as sj\n",
        "print(\"python:\", sys.version)\n",
        "print(\"streamlit:\", st.__version__)\n",
        "print(\"streamlit-jupyter:\", sj.__version__)"
      ],
      "metadata": {
        "id": "ORsCDq6yfnQ9",
        "outputId": "26807300-12a4-41c2-a3d9-bc7a5183199c",
        "colab": {
          "base_uri": "https://localhost:8080/"
        }
      },
      "execution_count": 36,
      "outputs": [
        {
          "output_type": "stream",
          "name": "stdout",
          "text": [
            "python: 3.12.11 (main, Jun  4 2025, 08:56:18) [GCC 11.4.0]\n",
            "streamlit: 1.49.1\n",
            "streamlit-jupyter: 0.3.1\n"
          ]
        }
      ]
    },
    {
      "cell_type": "code",
      "source": [],
      "metadata": {
        "id": "iJHMU7bwfvVx"
      },
      "execution_count": null,
      "outputs": []
    }
  ]
}
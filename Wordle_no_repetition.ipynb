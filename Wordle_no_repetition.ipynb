{
  "nbformat": 4,
  "nbformat_minor": 0,
  "metadata": {
    "colab": {
      "provenance": [],
      "authorship_tag": "ABX9TyPv67NWX/Mz3VyB9k24RkEf",
      "include_colab_link": true
    },
    "kernelspec": {
      "name": "python3",
      "display_name": "Python 3"
    },
    "language_info": {
      "name": "python"
    }
  },
  "cells": [
    {
      "cell_type": "markdown",
      "metadata": {
        "id": "view-in-github",
        "colab_type": "text"
      },
      "source": [
        "<a href=\"https://colab.research.google.com/github/karthee-siva/wordle_practice/blob/main/Wordle_no_repetition.ipynb\" target=\"_parent\"><img src=\"https://colab.research.google.com/assets/colab-badge.svg\" alt=\"Open In Colab\"/></a>"
      ]
    },
    {
      "cell_type": "code",
      "source": [
        "import os\n",
        "print(os.listdir('.'))"
      ],
      "metadata": {
        "id": "rN1oA3WuakjD",
        "colab": {
          "base_uri": "https://localhost:8080/"
        },
        "outputId": "dd8fd430-72a8-4a4d-ef3b-16732698b5a2"
      },
      "execution_count": 3,
      "outputs": [
        {
          "output_type": "stream",
          "name": "stdout",
          "text": [
            "['.config', 'wordle_backend.py', 'sample_data', '.ipynb_checkpoints', '__pycache__']\n"
          ]
        }
      ]
    },
    {
      "cell_type": "code",
      "source": [
        "import numpy as np\n",
        "import pandas as pd\n",
        "import random\n",
        "import streamlit as st\n",
        "from wordle_backend import wordle_backend"
      ],
      "metadata": {
        "id": "VIM7NegxbzM6"
      },
      "execution_count": 1,
      "outputs": []
    },
    {
      "cell_type": "code",
      "source": [
        "#%cat wordle_backend.py"
      ],
      "metadata": {
        "id": "qETW4etXcMXr"
      },
      "execution_count": 7,
      "outputs": []
    },
    {
      "cell_type": "code",
      "metadata": {
        "id": "3add1964"
      },
      "source": [
        "target_word_len = 5\n"
      ],
      "execution_count": 3,
      "outputs": []
    },
    {
      "cell_type": "code",
      "source": [],
      "metadata": {
        "id": "y5SxmLZ-cxFq"
      },
      "execution_count": 3,
      "outputs": []
    },
    {
      "cell_type": "code",
      "source": [],
      "metadata": {
        "id": "OIyo3YyvdLEA"
      },
      "execution_count": 5,
      "outputs": []
    },
    {
      "cell_type": "code",
      "source": [],
      "metadata": {
        "id": "dhbzU67ddMCE"
      },
      "execution_count": 5,
      "outputs": []
    },
    {
      "cell_type": "code",
      "source": [],
      "metadata": {
        "id": "Z3DGxMW2dM0Y"
      },
      "execution_count": 5,
      "outputs": []
    },
    {
      "cell_type": "code",
      "metadata": {
        "colab": {
          "base_uri": "https://localhost:8080/"
        },
        "id": "0439ac84",
        "outputId": "d60d914c-bdc6-4fd3-ae6c-1ab8cd9b5b4b"
      },
      "source": [],
      "execution_count": 50,
      "outputs": [
        {
          "output_type": "stream",
          "name": "stdout",
          "text": [
            "import numpy as np\n",
            "import pandas as pd\n",
            "import random\n",
            "import streamlit as st\n",
            "\n",
            "class wordle_backend:\n",
            "  def create_answer(_self, dat, target_word_len):\n",
            "    answer_word = random.choice(dat)\n",
            "    while ( answer_word[-1] == \"s\" or len(set(answer_word))!= target_word_len):\n",
            "      answer_word = random.choice(dat)\n",
            "\n",
            "    return answer_word\n",
            "\n",
            "  def in_dictionary(self,guess, dat):\n",
            "    if guess in dat:\n",
            "      return True\n",
            "    else:\n",
            "      return False\n",
            "\n",
            "  def give_colors(self,guess,answer_word,perfect,move_spot,absent):\n",
            "    guess_colors = []\n",
            "    for i in range(len(guess)):\n",
            "      letter = guess[i]\n",
            "      if letter in answer_word:\n",
            "        if answer_word.index(letter)==i:\n",
            "          guess_colors.append(perfect)\n",
            "        else:\n",
            "          guess_colors.append(move_spot)\n",
            "      else:\n",
            "        guess_colors.append(absent)\n",
            "    return (guess_colors)\n",
            "\n",
            "\n",
            "  def check_win(self, guess_colors, win_colors):\n",
            "    if guess_colors == win_colors:\n",
            "      return True\n",
            "    else:\n",
            "      return False\n",
            "\n",
            "    \n",
            "\n"
          ]
        }
      ]
    },
    {
      "cell_type": "code",
      "source": [],
      "metadata": {
        "id": "NQzpkvLJ1Vom"
      },
      "execution_count": null,
      "outputs": []
    }
  ]
}
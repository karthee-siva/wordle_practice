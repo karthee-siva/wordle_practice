{
  "nbformat": 4,
  "nbformat_minor": 0,
  "metadata": {
    "colab": {
      "provenance": [],
      "authorship_tag": "ABX9TyNTtj9Hifn1VclyIwXDCuX3",
      "include_colab_link": true
    },
    "kernelspec": {
      "name": "python3",
      "display_name": "Python 3"
    },
    "language_info": {
      "name": "python"
    },
    "widgets": {
      "application/vnd.jupyter.widget-state+json": {
        "69632a1dbc514e8096ad967204862dcd": {
          "model_module": "@jupyter-widgets/controls",
          "model_name": "TextareaModel",
          "model_module_version": "2.0.0",
          "state": {
            "_dom_classes": [],
            "_model_module": "@jupyter-widgets/controls",
            "_model_module_version": "2.0.0",
            "_model_name": "TextareaModel",
            "_view_count": null,
            "_view_module": "@jupyter-widgets/controls",
            "_view_module_version": "2.0.0",
            "_view_name": "TextareaView",
            "continuous_update": true,
            "description": "Enter your name:",
            "description_allow_html": false,
            "disabled": false,
            "layout": "IPY_MODEL_1ee2267d04a3435bb2e443e5b6064b0f",
            "placeholder": "Type something",
            "rows": null,
            "style": "IPY_MODEL_602fda3a2d4b487fb37632ff08d8ee0e",
            "tabbable": null,
            "tooltip": null,
            "value": ""
          }
        },
        "1ee2267d04a3435bb2e443e5b6064b0f": {
          "model_module": "@jupyter-widgets/base",
          "model_name": "LayoutModel",
          "model_module_version": "2.0.0",
          "state": {
            "_model_module": "@jupyter-widgets/base",
            "_model_module_version": "2.0.0",
            "_model_name": "LayoutModel",
            "_view_count": null,
            "_view_module": "@jupyter-widgets/base",
            "_view_module_version": "2.0.0",
            "_view_name": "LayoutView",
            "align_content": null,
            "align_items": null,
            "align_self": null,
            "border_bottom": null,
            "border_left": null,
            "border_right": null,
            "border_top": null,
            "bottom": null,
            "display": null,
            "flex": null,
            "flex_flow": null,
            "grid_area": null,
            "grid_auto_columns": null,
            "grid_auto_flow": null,
            "grid_auto_rows": null,
            "grid_column": null,
            "grid_gap": null,
            "grid_row": null,
            "grid_template_areas": null,
            "grid_template_columns": null,
            "grid_template_rows": null,
            "height": null,
            "justify_content": null,
            "justify_items": null,
            "left": null,
            "margin": null,
            "max_height": null,
            "max_width": null,
            "min_height": null,
            "min_width": null,
            "object_fit": null,
            "object_position": null,
            "order": null,
            "overflow": null,
            "padding": null,
            "right": null,
            "top": null,
            "visibility": null,
            "width": null
          }
        },
        "602fda3a2d4b487fb37632ff08d8ee0e": {
          "model_module": "@jupyter-widgets/controls",
          "model_name": "TextStyleModel",
          "model_module_version": "2.0.0",
          "state": {
            "_model_module": "@jupyter-widgets/controls",
            "_model_module_version": "2.0.0",
            "_model_name": "TextStyleModel",
            "_view_count": null,
            "_view_module": "@jupyter-widgets/base",
            "_view_module_version": "2.0.0",
            "_view_name": "StyleView",
            "background": null,
            "description_width": "",
            "font_size": null,
            "text_color": null
          }
        },
        "6f21f0a71695490ca836b30d0c39de4c": {
          "model_module": "@jupyter-widgets/controls",
          "model_name": "TextareaModel",
          "model_module_version": "2.0.0",
          "state": {
            "_dom_classes": [],
            "_model_module": "@jupyter-widgets/controls",
            "_model_module_version": "2.0.0",
            "_model_name": "TextareaModel",
            "_view_count": null,
            "_view_module": "@jupyter-widgets/controls",
            "_view_module_version": "2.0.0",
            "_view_name": "TextareaView",
            "continuous_update": true,
            "description": "Enter your name:",
            "description_allow_html": false,
            "disabled": false,
            "layout": "IPY_MODEL_2019ecc2d3f94e6f9474caacf66c97ba",
            "placeholder": "Type something",
            "rows": null,
            "style": "IPY_MODEL_18923d4191fb40408b034f8c2f93e273",
            "tabbable": null,
            "tooltip": null,
            "value": ""
          }
        },
        "2019ecc2d3f94e6f9474caacf66c97ba": {
          "model_module": "@jupyter-widgets/base",
          "model_name": "LayoutModel",
          "model_module_version": "2.0.0",
          "state": {
            "_model_module": "@jupyter-widgets/base",
            "_model_module_version": "2.0.0",
            "_model_name": "LayoutModel",
            "_view_count": null,
            "_view_module": "@jupyter-widgets/base",
            "_view_module_version": "2.0.0",
            "_view_name": "LayoutView",
            "align_content": null,
            "align_items": null,
            "align_self": null,
            "border_bottom": null,
            "border_left": null,
            "border_right": null,
            "border_top": null,
            "bottom": null,
            "display": null,
            "flex": null,
            "flex_flow": null,
            "grid_area": null,
            "grid_auto_columns": null,
            "grid_auto_flow": null,
            "grid_auto_rows": null,
            "grid_column": null,
            "grid_gap": null,
            "grid_row": null,
            "grid_template_areas": null,
            "grid_template_columns": null,
            "grid_template_rows": null,
            "height": null,
            "justify_content": null,
            "justify_items": null,
            "left": null,
            "margin": null,
            "max_height": null,
            "max_width": null,
            "min_height": null,
            "min_width": null,
            "object_fit": null,
            "object_position": null,
            "order": null,
            "overflow": null,
            "padding": null,
            "right": null,
            "top": null,
            "visibility": null,
            "width": null
          }
        },
        "18923d4191fb40408b034f8c2f93e273": {
          "model_module": "@jupyter-widgets/controls",
          "model_name": "TextStyleModel",
          "model_module_version": "2.0.0",
          "state": {
            "_model_module": "@jupyter-widgets/controls",
            "_model_module_version": "2.0.0",
            "_model_name": "TextStyleModel",
            "_view_count": null,
            "_view_module": "@jupyter-widgets/base",
            "_view_module_version": "2.0.0",
            "_view_name": "StyleView",
            "background": null,
            "description_width": "",
            "font_size": null,
            "text_color": null
          }
        },
        "685139a6310147b0ae1be112b6a5c1ce": {
          "model_module": "@jupyter-widgets/controls",
          "model_name": "TextareaModel",
          "model_module_version": "2.0.0",
          "state": {
            "_dom_classes": [],
            "_model_module": "@jupyter-widgets/controls",
            "_model_module_version": "2.0.0",
            "_model_name": "TextareaModel",
            "_view_count": null,
            "_view_module": "@jupyter-widgets/controls",
            "_view_module_version": "2.0.0",
            "_view_name": "TextareaView",
            "continuous_update": true,
            "description": "Leave a note:",
            "description_allow_html": false,
            "disabled": false,
            "layout": "IPY_MODEL_98caa626a2384b15b7f6ba5e6fe3a1bc",
            "placeholder": "Type something",
            "rows": null,
            "style": "IPY_MODEL_6a72b2102b3b4b69b5c010ead237ec2f",
            "tabbable": null,
            "tooltip": null,
            "value": ""
          }
        },
        "98caa626a2384b15b7f6ba5e6fe3a1bc": {
          "model_module": "@jupyter-widgets/base",
          "model_name": "LayoutModel",
          "model_module_version": "2.0.0",
          "state": {
            "_model_module": "@jupyter-widgets/base",
            "_model_module_version": "2.0.0",
            "_model_name": "LayoutModel",
            "_view_count": null,
            "_view_module": "@jupyter-widgets/base",
            "_view_module_version": "2.0.0",
            "_view_name": "LayoutView",
            "align_content": null,
            "align_items": null,
            "align_self": null,
            "border_bottom": null,
            "border_left": null,
            "border_right": null,
            "border_top": null,
            "bottom": null,
            "display": null,
            "flex": null,
            "flex_flow": null,
            "grid_area": null,
            "grid_auto_columns": null,
            "grid_auto_flow": null,
            "grid_auto_rows": null,
            "grid_column": null,
            "grid_gap": null,
            "grid_row": null,
            "grid_template_areas": null,
            "grid_template_columns": null,
            "grid_template_rows": null,
            "height": null,
            "justify_content": null,
            "justify_items": null,
            "left": null,
            "margin": null,
            "max_height": null,
            "max_width": null,
            "min_height": null,
            "min_width": null,
            "object_fit": null,
            "object_position": null,
            "order": null,
            "overflow": null,
            "padding": null,
            "right": null,
            "top": null,
            "visibility": null,
            "width": null
          }
        },
        "6a72b2102b3b4b69b5c010ead237ec2f": {
          "model_module": "@jupyter-widgets/controls",
          "model_name": "TextStyleModel",
          "model_module_version": "2.0.0",
          "state": {
            "_model_module": "@jupyter-widgets/controls",
            "_model_module_version": "2.0.0",
            "_model_name": "TextStyleModel",
            "_view_count": null,
            "_view_module": "@jupyter-widgets/base",
            "_view_module_version": "2.0.0",
            "_view_name": "StyleView",
            "background": null,
            "description_width": "",
            "font_size": null,
            "text_color": null
          }
        },
        "253b334156e34bd596b33655243fa7b5": {
          "model_module": "@jupyter-widgets/controls",
          "model_name": "TextareaModel",
          "model_module_version": "2.0.0",
          "state": {
            "_dom_classes": [],
            "_model_module": "@jupyter-widgets/controls",
            "_model_module_version": "2.0.0",
            "_model_name": "TextareaModel",
            "_view_count": null,
            "_view_module": "@jupyter-widgets/controls",
            "_view_module_version": "2.0.0",
            "_view_name": "TextareaView",
            "continuous_update": true,
            "description": "Leave a note:",
            "description_allow_html": false,
            "disabled": false,
            "layout": "IPY_MODEL_0b9241b530bf4644b6bf4fdeade9a600",
            "placeholder": "Type something",
            "rows": null,
            "style": "IPY_MODEL_41a3470e865f474893e93ed10eaa5b54",
            "tabbable": null,
            "tooltip": null,
            "value": ""
          }
        },
        "0b9241b530bf4644b6bf4fdeade9a600": {
          "model_module": "@jupyter-widgets/base",
          "model_name": "LayoutModel",
          "model_module_version": "2.0.0",
          "state": {
            "_model_module": "@jupyter-widgets/base",
            "_model_module_version": "2.0.0",
            "_model_name": "LayoutModel",
            "_view_count": null,
            "_view_module": "@jupyter-widgets/base",
            "_view_module_version": "2.0.0",
            "_view_name": "LayoutView",
            "align_content": null,
            "align_items": null,
            "align_self": null,
            "border_bottom": null,
            "border_left": null,
            "border_right": null,
            "border_top": null,
            "bottom": null,
            "display": null,
            "flex": null,
            "flex_flow": null,
            "grid_area": null,
            "grid_auto_columns": null,
            "grid_auto_flow": null,
            "grid_auto_rows": null,
            "grid_column": null,
            "grid_gap": null,
            "grid_row": null,
            "grid_template_areas": null,
            "grid_template_columns": null,
            "grid_template_rows": null,
            "height": null,
            "justify_content": null,
            "justify_items": null,
            "left": null,
            "margin": null,
            "max_height": null,
            "max_width": null,
            "min_height": null,
            "min_width": null,
            "object_fit": null,
            "object_position": null,
            "order": null,
            "overflow": null,
            "padding": null,
            "right": null,
            "top": null,
            "visibility": null,
            "width": null
          }
        },
        "41a3470e865f474893e93ed10eaa5b54": {
          "model_module": "@jupyter-widgets/controls",
          "model_name": "TextStyleModel",
          "model_module_version": "2.0.0",
          "state": {
            "_model_module": "@jupyter-widgets/controls",
            "_model_module_version": "2.0.0",
            "_model_name": "TextStyleModel",
            "_view_count": null,
            "_view_module": "@jupyter-widgets/base",
            "_view_module_version": "2.0.0",
            "_view_name": "StyleView",
            "background": null,
            "description_width": "",
            "font_size": null,
            "text_color": null
          }
        },
        "d19c19b150d048aa8c24288a3e934ac5": {
          "model_module": "@jupyter-widgets/controls",
          "model_name": "TextareaModel",
          "model_module_version": "2.0.0",
          "state": {
            "_dom_classes": [],
            "_model_module": "@jupyter-widgets/controls",
            "_model_module_version": "2.0.0",
            "_model_name": "TextareaModel",
            "_view_count": null,
            "_view_module": "@jupyter-widgets/controls",
            "_view_module_version": "2.0.0",
            "_view_name": "TextareaView",
            "continuous_update": true,
            "description": "Type your name:",
            "description_allow_html": false,
            "disabled": false,
            "layout": "IPY_MODEL_f3857d257b284e52a8b514ace20a0d7e",
            "placeholder": "Type something",
            "rows": null,
            "style": "IPY_MODEL_cd85383b0f4140a182080d05c9eaab13",
            "tabbable": null,
            "tooltip": null,
            "value": ""
          }
        },
        "f3857d257b284e52a8b514ace20a0d7e": {
          "model_module": "@jupyter-widgets/base",
          "model_name": "LayoutModel",
          "model_module_version": "2.0.0",
          "state": {
            "_model_module": "@jupyter-widgets/base",
            "_model_module_version": "2.0.0",
            "_model_name": "LayoutModel",
            "_view_count": null,
            "_view_module": "@jupyter-widgets/base",
            "_view_module_version": "2.0.0",
            "_view_name": "LayoutView",
            "align_content": null,
            "align_items": null,
            "align_self": null,
            "border_bottom": null,
            "border_left": null,
            "border_right": null,
            "border_top": null,
            "bottom": null,
            "display": null,
            "flex": null,
            "flex_flow": null,
            "grid_area": null,
            "grid_auto_columns": null,
            "grid_auto_flow": null,
            "grid_auto_rows": null,
            "grid_column": null,
            "grid_gap": null,
            "grid_row": null,
            "grid_template_areas": null,
            "grid_template_columns": null,
            "grid_template_rows": null,
            "height": null,
            "justify_content": null,
            "justify_items": null,
            "left": null,
            "margin": null,
            "max_height": null,
            "max_width": null,
            "min_height": null,
            "min_width": null,
            "object_fit": null,
            "object_position": null,
            "order": null,
            "overflow": null,
            "padding": null,
            "right": null,
            "top": null,
            "visibility": null,
            "width": null
          }
        },
        "cd85383b0f4140a182080d05c9eaab13": {
          "model_module": "@jupyter-widgets/controls",
          "model_name": "TextStyleModel",
          "model_module_version": "2.0.0",
          "state": {
            "_model_module": "@jupyter-widgets/controls",
            "_model_module_version": "2.0.0",
            "_model_name": "TextStyleModel",
            "_view_count": null,
            "_view_module": "@jupyter-widgets/base",
            "_view_module_version": "2.0.0",
            "_view_name": "StyleView",
            "background": null,
            "description_width": "",
            "font_size": null,
            "text_color": null
          }
        }
      }
    }
  },
  "cells": [
    {
      "cell_type": "markdown",
      "metadata": {
        "id": "view-in-github",
        "colab_type": "text"
      },
      "source": [
        "<a href=\"https://colab.research.google.com/github/karthee-siva/wordle_practice/blob/main/Wordle_no_repetition.ipynb\" target=\"_parent\"><img src=\"https://colab.research.google.com/assets/colab-badge.svg\" alt=\"Open In Colab\"/></a>"
      ]
    },
    {
      "cell_type": "code",
      "execution_count": 3,
      "metadata": {
        "id": "CtNNn6vqTCB4"
      },
      "outputs": [],
      "source": [
        "#!pip install streamlit streamlit-jupyter\n",
        "from streamlit_jupyter import StreamlitPatcher, tqdm\n"
      ]
    },
    {
      "cell_type": "code",
      "source": [],
      "metadata": {
        "id": "KBLOUalSb_mm"
      },
      "execution_count": null,
      "outputs": []
    },
    {
      "cell_type": "code",
      "source": [
        "\n",
        "StreamlitPatcher().jupyter()\n",
        "import streamlit as st\n",
        "st.title('Hello Streamlit Jupyter! :D')\n",
        "st.write(\"Please provide the wordle puzzle...\")\n",
        "\n",
        "# --- Your colored input box CSS (light blue) ---\n",
        "st.markdown(\"\"\"\n",
        "<style>\n",
        ".stTextInput > div > div > input {\n",
        "    background-color: #e6f0ff !important;\n",
        "    color: #000000 !important;\n",
        "    border: 2px solid #3399ff !important;\n",
        "    border-radius: 8px !important;\n",
        "    padding: 8px !important;\n",
        "}\n",
        "</style>\n",
        "\"\"\", unsafe_allow_html=True\n",
        ")\n",
        "name = st.text_input(\"Enter your name:\")\n",
        "\n",
        "if name:\n",
        "    st.success(f\"Hello, {name}!\")"
      ],
      "metadata": {
        "colab": {
          "base_uri": "https://localhost:8080/",
          "height": 99,
          "referenced_widgets": [
            "69632a1dbc514e8096ad967204862dcd",
            "1ee2267d04a3435bb2e443e5b6064b0f",
            "602fda3a2d4b487fb37632ff08d8ee0e"
          ]
        },
        "id": "av8Jdy87VT1T",
        "outputId": "037f76d2-4080-4a06-f0c3-d0f102d876cd"
      },
      "execution_count": 4,
      "outputs": [
        {
          "output_type": "display_data",
          "data": {
            "text/plain": [
              "<IPython.core.display.Markdown object>"
            ],
            "text/markdown": "# Hello Streamlit Jupyter! :D"
          },
          "metadata": {}
        },
        {
          "output_type": "display_data",
          "data": {
            "text/plain": [
              "<IPython.core.display.Markdown object>"
            ],
            "text/markdown": "Please provide the wordle puzzle..."
          },
          "metadata": {}
        },
        {
          "output_type": "display_data",
          "data": {
            "text/plain": [
              "<IPython.core.display.Markdown object>"
            ],
            "text/markdown": "\n<style>\n.stTextInput > div > div > input {\n    background-color: #e6f0ff !important;\n    color: #000000 !important;\n    border: 2px solid #3399ff !important;\n    border-radius: 8px !important;\n    padding: 8px !important;\n}\n</style>\n"
          },
          "metadata": {}
        },
        {
          "output_type": "display_data",
          "data": {
            "text/plain": [
              "Textarea(value='', description='Enter your name:', placeholder='Type something')"
            ],
            "application/vnd.jupyter.widget-view+json": {
              "version_major": 2,
              "version_minor": 0,
              "model_id": "69632a1dbc514e8096ad967204862dcd"
            }
          },
          "metadata": {}
        }
      ]
    },
    {
      "cell_type": "code",
      "source": [
        "# ✅ One-shot: colored text input in Streamlit Jupyter\n",
        "\n",
        "from streamlit_jupyter import StreamlitPatcher\n",
        "StreamlitPatcher().jupyter()\n",
        "\n",
        "import streamlit as st\n",
        "\n",
        "st.title(\"Colored Text Input (robust selectors)\")\n",
        "\n",
        "# --- Robust CSS (covers multiple Streamlit versions) ---\n",
        "st.markdown(\"\"\"\n",
        "<style>\n",
        "/* Newer Streamlit builds expose data-testid */\n",
        "div[data-testid=\"stTextInput\"] input,\n",
        "/* Classic class name */\n",
        ".stTextInput input,\n",
        "/* BaseWeb wrapper used by Streamlit's TextInput */\n",
        "div[data-baseweb=\"input\"] input,\n",
        "/* Fallback: target by aria-label (we set the same label) */\n",
        "input[aria-label=\"Enter your name:\"] {\n",
        "    background-color: #e6f0ff !important;   /* light blue */\n",
        "    color: #000000 !important;               /* text */\n",
        "    border: 2px solid #3399ff !important;    /* blue border */\n",
        "    border-radius: 8px !important;\n",
        "    padding: 8px !important;\n",
        "    outline: none !important;\n",
        "    box-shadow: none !important;\n",
        "}\n",
        "</style>\n",
        "\"\"\", unsafe_allow_html=True)\n",
        "\n",
        "# --- The widget (label matches aria-label selector above) ---\n",
        "name = st.text_input(\"Enter your name:\")\n",
        "\n",
        "st.write(\"Value:\", name if name else \"—\")\n",
        "\n",
        "msg = st.text_area(\"Leave a note:\")"
      ],
      "metadata": {
        "id": "1FzprLw8VSmC",
        "colab": {
          "base_uri": "https://localhost:8080/",
          "height": 121,
          "referenced_widgets": [
            "6f21f0a71695490ca836b30d0c39de4c",
            "2019ecc2d3f94e6f9474caacf66c97ba",
            "18923d4191fb40408b034f8c2f93e273",
            "685139a6310147b0ae1be112b6a5c1ce",
            "98caa626a2384b15b7f6ba5e6fe3a1bc",
            "6a72b2102b3b4b69b5c010ead237ec2f"
          ]
        },
        "outputId": "c453693a-14d2-446d-e2c4-ddfb7cc2dabc"
      },
      "execution_count": 5,
      "outputs": [
        {
          "output_type": "display_data",
          "data": {
            "text/plain": [
              "<IPython.core.display.Markdown object>"
            ],
            "text/markdown": "# Colored Text Input (robust selectors)"
          },
          "metadata": {}
        },
        {
          "output_type": "display_data",
          "data": {
            "text/plain": [
              "<IPython.core.display.Markdown object>"
            ],
            "text/markdown": "\n<style>\n/* Newer Streamlit builds expose data-testid */\ndiv[data-testid=\"stTextInput\"] input,\n/* Classic class name */\n.stTextInput input,\n/* BaseWeb wrapper used by Streamlit's TextInput */\ndiv[data-baseweb=\"input\"] input,\n/* Fallback: target by aria-label (we set the same label) */\ninput[aria-label=\"Enter your name:\"] {\n    background-color: #e6f0ff !important;   /* light blue */\n    color: #000000 !important;               /* text */\n    border: 2px solid #3399ff !important;    /* blue border */\n    border-radius: 8px !important;\n    padding: 8px !important;\n    outline: none !important;\n    box-shadow: none !important;\n}\n</style>\n"
          },
          "metadata": {}
        },
        {
          "output_type": "display_data",
          "data": {
            "text/plain": [
              "Textarea(value='', description='Enter your name:', placeholder='Type something')"
            ],
            "application/vnd.jupyter.widget-view+json": {
              "version_major": 2,
              "version_minor": 0,
              "model_id": "6f21f0a71695490ca836b30d0c39de4c"
            }
          },
          "metadata": {}
        },
        {
          "output_type": "display_data",
          "data": {
            "text/plain": [
              "<IPython.core.display.Markdown object>"
            ],
            "text/markdown": "Value:"
          },
          "metadata": {}
        },
        {
          "output_type": "display_data",
          "data": {
            "text/plain": [
              "<IPython.core.display.Markdown object>"
            ],
            "text/markdown": "—"
          },
          "metadata": {}
        },
        {
          "output_type": "display_data",
          "data": {
            "text/plain": [
              "Textarea(value='', description='Leave a note:', placeholder='Type something')"
            ],
            "application/vnd.jupyter.widget-view+json": {
              "version_major": 2,
              "version_minor": 0,
              "model_id": "685139a6310147b0ae1be112b6a5c1ce"
            }
          },
          "metadata": {}
        }
      ]
    },
    {
      "cell_type": "code",
      "source": [
        "msg = st.text_area(\"Leave a note:\")"
      ],
      "metadata": {
        "colab": {
          "base_uri": "https://localhost:8080/",
          "height": 18,
          "referenced_widgets": [
            "253b334156e34bd596b33655243fa7b5",
            "0b9241b530bf4644b6bf4fdeade9a600",
            "41a3470e865f474893e93ed10eaa5b54"
          ]
        },
        "id": "e-OxEDirTxdD",
        "outputId": "c917ce14-8cbd-41e1-dc25-78d327d3af32"
      },
      "execution_count": 6,
      "outputs": [
        {
          "output_type": "display_data",
          "data": {
            "text/plain": [
              "Textarea(value='', description='Leave a note:', placeholder='Type something')"
            ],
            "application/vnd.jupyter.widget-view+json": {
              "version_major": 2,
              "version_minor": 0,
              "model_id": "253b334156e34bd596b33655243fa7b5"
            }
          },
          "metadata": {}
        }
      ]
    },
    {
      "cell_type": "code",
      "source": [
        "from streamlit_jupyter import StreamlitPatcher\n",
        "StreamlitPatcher().jupyter()  # must run in the same cell before any st.* calls\n",
        "\n",
        "import streamlit as st\n",
        "\n",
        "st.title(\"Streamlit inline sanity check\")\n",
        "\n",
        "# Use a form so the UI doesn't re-run on every keystroke\n",
        "with st.form(\"f\"):\n",
        "    name = st.text_input(\"Type your name:\")\n",
        "    ok = st.form_submit_button(\"Submit\")\n",
        "\n",
        "if ok:\n",
        "    st.success(f\"Hello, {name or '…nothing entered'}\")\n",
        "else:\n",
        "    st.info(\"Type something and press Submit\")"
      ],
      "metadata": {
        "id": "bPwj330XUzAJ",
        "colab": {
          "base_uri": "https://localhost:8080/",
          "height": 359,
          "referenced_widgets": [
            "d19c19b150d048aa8c24288a3e934ac5",
            "f3857d257b284e52a8b514ace20a0d7e",
            "cd85383b0f4140a182080d05c9eaab13"
          ]
        },
        "outputId": "8b90baa4-7c6b-4bcc-ff89-7643a816a437"
      },
      "execution_count": 7,
      "outputs": [
        {
          "output_type": "display_data",
          "data": {
            "text/plain": [
              "<IPython.core.display.Markdown object>"
            ],
            "text/markdown": "# Streamlit inline sanity check"
          },
          "metadata": {}
        },
        {
          "output_type": "stream",
          "name": "stderr",
          "text": [
            "2025-09-04 01:36:52.354 WARNING streamlit.runtime.scriptrunner_utils.script_run_context: Thread 'MainThread': missing ScriptRunContext! This warning can be ignored when running in bare mode.\n",
            "2025-09-04 01:36:52.355 WARNING streamlit.runtime.scriptrunner_utils.script_run_context: Thread 'MainThread': missing ScriptRunContext! This warning can be ignored when running in bare mode.\n"
          ]
        },
        {
          "output_type": "display_data",
          "data": {
            "text/plain": [
              "Textarea(value='', description='Type your name:', placeholder='Type something')"
            ],
            "application/vnd.jupyter.widget-view+json": {
              "version_major": 2,
              "version_minor": 0,
              "model_id": "d19c19b150d048aa8c24288a3e934ac5"
            }
          },
          "metadata": {}
        },
        {
          "output_type": "stream",
          "name": "stderr",
          "text": [
            "2025-09-04 01:36:52.363 WARNING streamlit.runtime.scriptrunner_utils.script_run_context: Thread 'MainThread': missing ScriptRunContext! This warning can be ignored when running in bare mode.\n",
            "2025-09-04 01:36:52.364 WARNING streamlit.runtime.scriptrunner_utils.script_run_context: Thread 'MainThread': missing ScriptRunContext! This warning can be ignored when running in bare mode.\n",
            "2025-09-04 01:36:52.365 WARNING streamlit.runtime.scriptrunner_utils.script_run_context: Thread 'MainThread': missing ScriptRunContext! This warning can be ignored when running in bare mode.\n",
            "2025-09-04 01:36:52.366 WARNING streamlit.runtime.scriptrunner_utils.script_run_context: Thread 'MainThread': missing ScriptRunContext! This warning can be ignored when running in bare mode.\n",
            "2025-09-04 01:36:52.516 \n",
            "  \u001b[33m\u001b[1mWarning:\u001b[0m to view this Streamlit app on a browser, run it with the following\n",
            "  command:\n",
            "\n",
            "    streamlit run /usr/local/lib/python3.12/dist-packages/colab_kernel_launcher.py [ARGUMENTS]\n",
            "2025-09-04 01:36:52.517 Thread 'MainThread': missing ScriptRunContext! This warning can be ignored when running in bare mode.\n",
            "2025-09-04 01:36:52.518 Thread 'MainThread': missing ScriptRunContext! This warning can be ignored when running in bare mode.\n",
            "2025-09-04 01:36:52.519 Thread 'MainThread': missing ScriptRunContext! This warning can be ignored when running in bare mode.\n",
            "2025-09-04 01:36:52.520 Thread 'MainThread': missing ScriptRunContext! This warning can be ignored when running in bare mode.\n",
            "2025-09-04 01:36:52.521 Thread 'MainThread': missing ScriptRunContext! This warning can be ignored when running in bare mode.\n"
          ]
        }
      ]
    },
    {
      "cell_type": "code",
      "metadata": {
        "id": "d9394a74",
        "colab": {
          "base_uri": "https://localhost:8080/",
          "height": 104
        },
        "outputId": "60b0cc76-9220-40a8-ff8d-5fd01f94f53d"
      },
      "source": [
        "jupyter trust Wordle_no_repetition.ipynb\n"
      ],
      "execution_count": 9,
      "outputs": [
        {
          "output_type": "error",
          "ename": "SyntaxError",
          "evalue": "invalid syntax (ipython-input-2577782214.py, line 1)",
          "traceback": [
            "\u001b[0;36m  File \u001b[0;32m\"/tmp/ipython-input-2577782214.py\"\u001b[0;36m, line \u001b[0;32m1\u001b[0m\n\u001b[0;31m    jupyter trust Wordle_no_repetition.ipynb\u001b[0m\n\u001b[0m            ^\u001b[0m\n\u001b[0;31mSyntaxError\u001b[0m\u001b[0;31m:\u001b[0m invalid syntax\n"
          ]
        }
      ]
    },
    {
      "cell_type": "code",
      "source": [
        "import sys, streamlit as st, streamlit_jupyter as sj\n",
        "print(\"python:\", sys.version)\n",
        "print(\"streamlit:\", st.__version__)\n",
        "print(\"streamlit-jupyter:\", sj.__version__)"
      ],
      "metadata": {
        "id": "ORsCDq6yfnQ9",
        "outputId": "df1692aa-af92-425b-dc4c-d751bd2159e5",
        "colab": {
          "base_uri": "https://localhost:8080/"
        }
      },
      "execution_count": 10,
      "outputs": [
        {
          "output_type": "stream",
          "name": "stdout",
          "text": [
            "python: 3.12.11 (main, Jun  4 2025, 08:56:18) [GCC 11.4.0]\n",
            "streamlit: 1.49.1\n",
            "streamlit-jupyter: 0.3.1\n"
          ]
        }
      ]
    },
    {
      "cell_type": "code",
      "source": [],
      "metadata": {
        "id": "iJHMU7bwfvVx"
      },
      "execution_count": 10,
      "outputs": []
    },
    {
      "cell_type": "code",
      "source": [],
      "metadata": {
        "id": "vpFxuhb0Xw2p"
      },
      "execution_count": null,
      "outputs": []
    }
  ]
}